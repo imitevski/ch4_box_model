{
 "cells": [
  {
   "cell_type": "markdown",
   "metadata": {},
   "source": [
    "# NOAA"
   ]
  },
  {
   "cell_type": "code",
   "execution_count": 1,
   "metadata": {},
   "outputs": [],
   "source": [
    "import xarray as xr\n",
    "import matplotlib.pyplot as plt\n",
    "import pandas as pd\n",
    "import numpy as np \n",
    "%matplotlib inline"
   ]
  },
  {
   "cell_type": "code",
   "execution_count": 2,
   "metadata": {},
   "outputs": [
    {
     "data": {
      "text/html": [
       "<div>\n",
       "<style scoped>\n",
       "    .dataframe tbody tr th:only-of-type {\n",
       "        vertical-align: middle;\n",
       "    }\n",
       "\n",
       "    .dataframe tbody tr th {\n",
       "        vertical-align: top;\n",
       "    }\n",
       "\n",
       "    .dataframe thead th {\n",
       "        text-align: right;\n",
       "    }\n",
       "</style>\n",
       "<table border=\"1\" class=\"dataframe\">\n",
       "  <thead>\n",
       "    <tr style=\"text-align: right;\">\n",
       "      <th></th>\n",
       "      <th>year</th>\n",
       "      <th>month</th>\n",
       "      <th>decimal</th>\n",
       "      <th>average</th>\n",
       "      <th>average_unc</th>\n",
       "      <th>trend</th>\n",
       "      <th>trend_unc</th>\n",
       "    </tr>\n",
       "  </thead>\n",
       "  <tbody>\n",
       "    <tr>\n",
       "      <th>0</th>\n",
       "      <td>1983</td>\n",
       "      <td>7</td>\n",
       "      <td>1983.542</td>\n",
       "      <td>1625.9</td>\n",
       "      <td>2.5</td>\n",
       "      <td>1634.6</td>\n",
       "      <td>1.6</td>\n",
       "    </tr>\n",
       "    <tr>\n",
       "      <th>1</th>\n",
       "      <td>1983</td>\n",
       "      <td>8</td>\n",
       "      <td>1983.625</td>\n",
       "      <td>1628.0</td>\n",
       "      <td>3.1</td>\n",
       "      <td>1635.2</td>\n",
       "      <td>1.5</td>\n",
       "    </tr>\n",
       "    <tr>\n",
       "      <th>2</th>\n",
       "      <td>1983</td>\n",
       "      <td>9</td>\n",
       "      <td>1983.708</td>\n",
       "      <td>1638.4</td>\n",
       "      <td>2.5</td>\n",
       "      <td>1635.9</td>\n",
       "      <td>1.4</td>\n",
       "    </tr>\n",
       "    <tr>\n",
       "      <th>3</th>\n",
       "      <td>1983</td>\n",
       "      <td>10</td>\n",
       "      <td>1983.792</td>\n",
       "      <td>1644.8</td>\n",
       "      <td>1.6</td>\n",
       "      <td>1636.6</td>\n",
       "      <td>1.4</td>\n",
       "    </tr>\n",
       "    <tr>\n",
       "      <th>4</th>\n",
       "      <td>1983</td>\n",
       "      <td>11</td>\n",
       "      <td>1983.875</td>\n",
       "      <td>1642.6</td>\n",
       "      <td>0.7</td>\n",
       "      <td>1637.4</td>\n",
       "      <td>1.3</td>\n",
       "    </tr>\n",
       "    <tr>\n",
       "      <th>...</th>\n",
       "      <td>...</td>\n",
       "      <td>...</td>\n",
       "      <td>...</td>\n",
       "      <td>...</td>\n",
       "      <td>...</td>\n",
       "      <td>...</td>\n",
       "      <td>...</td>\n",
       "    </tr>\n",
       "    <tr>\n",
       "      <th>428</th>\n",
       "      <td>2019</td>\n",
       "      <td>3</td>\n",
       "      <td>2019.208</td>\n",
       "      <td>1866.0</td>\n",
       "      <td>-9.9</td>\n",
       "      <td>1864.4</td>\n",
       "      <td>-9.9</td>\n",
       "    </tr>\n",
       "    <tr>\n",
       "      <th>429</th>\n",
       "      <td>2019</td>\n",
       "      <td>4</td>\n",
       "      <td>2019.292</td>\n",
       "      <td>1865.1</td>\n",
       "      <td>-9.9</td>\n",
       "      <td>1865.3</td>\n",
       "      <td>-9.9</td>\n",
       "    </tr>\n",
       "    <tr>\n",
       "      <th>430</th>\n",
       "      <td>2019</td>\n",
       "      <td>5</td>\n",
       "      <td>2019.375</td>\n",
       "      <td>1862.2</td>\n",
       "      <td>-9.9</td>\n",
       "      <td>1866.3</td>\n",
       "      <td>-9.9</td>\n",
       "    </tr>\n",
       "    <tr>\n",
       "      <th>431</th>\n",
       "      <td>2019</td>\n",
       "      <td>6</td>\n",
       "      <td>2019.458</td>\n",
       "      <td>1859.9</td>\n",
       "      <td>-9.9</td>\n",
       "      <td>1867.3</td>\n",
       "      <td>-9.9</td>\n",
       "    </tr>\n",
       "    <tr>\n",
       "      <th>432</th>\n",
       "      <td>2019</td>\n",
       "      <td>7</td>\n",
       "      <td>2019.542</td>\n",
       "      <td>1858.6</td>\n",
       "      <td>-9.9</td>\n",
       "      <td>1868.2</td>\n",
       "      <td>-9.9</td>\n",
       "    </tr>\n",
       "  </tbody>\n",
       "</table>\n",
       "<p>433 rows × 7 columns</p>\n",
       "</div>"
      ],
      "text/plain": [
       "     year  month   decimal  average  average_unc   trend  trend_unc\n",
       "0    1983      7  1983.542   1625.9          2.5  1634.6        1.6\n",
       "1    1983      8  1983.625   1628.0          3.1  1635.2        1.5\n",
       "2    1983      9  1983.708   1638.4          2.5  1635.9        1.4\n",
       "3    1983     10  1983.792   1644.8          1.6  1636.6        1.4\n",
       "4    1983     11  1983.875   1642.6          0.7  1637.4        1.3\n",
       "..    ...    ...       ...      ...          ...     ...        ...\n",
       "428  2019      3  2019.208   1866.0         -9.9  1864.4       -9.9\n",
       "429  2019      4  2019.292   1865.1         -9.9  1865.3       -9.9\n",
       "430  2019      5  2019.375   1862.2         -9.9  1866.3       -9.9\n",
       "431  2019      6  2019.458   1859.9         -9.9  1867.3       -9.9\n",
       "432  2019      7  2019.542   1858.6         -9.9  1868.2       -9.9\n",
       "\n",
       "[433 rows x 7 columns]"
      ]
     },
     "execution_count": 2,
     "metadata": {},
     "output_type": "execute_result"
    }
   ],
   "source": [
    "noaa_raw = pd.read_csv('data/ch4_mm_gl (1).txt', comment='#', delim_whitespace=True)\n",
    "noaa_raw"
   ]
  },
  {
   "cell_type": "code",
   "execution_count": 3,
   "metadata": {},
   "outputs": [
    {
     "data": {
      "text/html": [
       "<div>\n",
       "<style scoped>\n",
       "    .dataframe tbody tr th:only-of-type {\n",
       "        vertical-align: middle;\n",
       "    }\n",
       "\n",
       "    .dataframe tbody tr th {\n",
       "        vertical-align: top;\n",
       "    }\n",
       "\n",
       "    .dataframe thead th {\n",
       "        text-align: right;\n",
       "    }\n",
       "</style>\n",
       "<table border=\"1\" class=\"dataframe\">\n",
       "  <thead>\n",
       "    <tr style=\"text-align: right;\">\n",
       "      <th></th>\n",
       "      <th>month</th>\n",
       "      <th>average</th>\n",
       "      <th>average_unc</th>\n",
       "      <th>trend</th>\n",
       "      <th>trend_unc</th>\n",
       "    </tr>\n",
       "    <tr>\n",
       "      <th>year</th>\n",
       "      <th></th>\n",
       "      <th></th>\n",
       "      <th></th>\n",
       "      <th></th>\n",
       "      <th></th>\n",
       "    </tr>\n",
       "  </thead>\n",
       "  <tbody>\n",
       "    <tr>\n",
       "      <th>1983</th>\n",
       "      <td>7</td>\n",
       "      <td>1625.9</td>\n",
       "      <td>2.5</td>\n",
       "      <td>1634.6</td>\n",
       "      <td>1.6</td>\n",
       "    </tr>\n",
       "    <tr>\n",
       "      <th>1983</th>\n",
       "      <td>8</td>\n",
       "      <td>1628.0</td>\n",
       "      <td>3.1</td>\n",
       "      <td>1635.2</td>\n",
       "      <td>1.5</td>\n",
       "    </tr>\n",
       "    <tr>\n",
       "      <th>1983</th>\n",
       "      <td>9</td>\n",
       "      <td>1638.4</td>\n",
       "      <td>2.5</td>\n",
       "      <td>1635.9</td>\n",
       "      <td>1.4</td>\n",
       "    </tr>\n",
       "    <tr>\n",
       "      <th>1983</th>\n",
       "      <td>10</td>\n",
       "      <td>1644.8</td>\n",
       "      <td>1.6</td>\n",
       "      <td>1636.6</td>\n",
       "      <td>1.4</td>\n",
       "    </tr>\n",
       "    <tr>\n",
       "      <th>1983</th>\n",
       "      <td>11</td>\n",
       "      <td>1642.6</td>\n",
       "      <td>0.7</td>\n",
       "      <td>1637.4</td>\n",
       "      <td>1.3</td>\n",
       "    </tr>\n",
       "    <tr>\n",
       "      <th>...</th>\n",
       "      <td>...</td>\n",
       "      <td>...</td>\n",
       "      <td>...</td>\n",
       "      <td>...</td>\n",
       "      <td>...</td>\n",
       "    </tr>\n",
       "    <tr>\n",
       "      <th>2019</th>\n",
       "      <td>3</td>\n",
       "      <td>1866.0</td>\n",
       "      <td>-9.9</td>\n",
       "      <td>1864.4</td>\n",
       "      <td>-9.9</td>\n",
       "    </tr>\n",
       "    <tr>\n",
       "      <th>2019</th>\n",
       "      <td>4</td>\n",
       "      <td>1865.1</td>\n",
       "      <td>-9.9</td>\n",
       "      <td>1865.3</td>\n",
       "      <td>-9.9</td>\n",
       "    </tr>\n",
       "    <tr>\n",
       "      <th>2019</th>\n",
       "      <td>5</td>\n",
       "      <td>1862.2</td>\n",
       "      <td>-9.9</td>\n",
       "      <td>1866.3</td>\n",
       "      <td>-9.9</td>\n",
       "    </tr>\n",
       "    <tr>\n",
       "      <th>2019</th>\n",
       "      <td>6</td>\n",
       "      <td>1859.9</td>\n",
       "      <td>-9.9</td>\n",
       "      <td>1867.3</td>\n",
       "      <td>-9.9</td>\n",
       "    </tr>\n",
       "    <tr>\n",
       "      <th>2019</th>\n",
       "      <td>7</td>\n",
       "      <td>1858.6</td>\n",
       "      <td>-9.9</td>\n",
       "      <td>1868.2</td>\n",
       "      <td>-9.9</td>\n",
       "    </tr>\n",
       "  </tbody>\n",
       "</table>\n",
       "<p>433 rows × 5 columns</p>\n",
       "</div>"
      ],
      "text/plain": [
       "      month  average  average_unc   trend  trend_unc\n",
       "year                                                \n",
       "1983      7   1625.9          2.5  1634.6        1.6\n",
       "1983      8   1628.0          3.1  1635.2        1.5\n",
       "1983      9   1638.4          2.5  1635.9        1.4\n",
       "1983     10   1644.8          1.6  1636.6        1.4\n",
       "1983     11   1642.6          0.7  1637.4        1.3\n",
       "...     ...      ...          ...     ...        ...\n",
       "2019      3   1866.0         -9.9  1864.4       -9.9\n",
       "2019      4   1865.1         -9.9  1865.3       -9.9\n",
       "2019      5   1862.2         -9.9  1866.3       -9.9\n",
       "2019      6   1859.9         -9.9  1867.3       -9.9\n",
       "2019      7   1858.6         -9.9  1868.2       -9.9\n",
       "\n",
       "[433 rows x 5 columns]"
      ]
     },
     "execution_count": 3,
     "metadata": {},
     "output_type": "execute_result"
    }
   ],
   "source": [
    "noaa_clean = noaa_raw.drop(columns='decimal').sort_values(['year', 'month'], ascending=True).set_index('year')\n",
    "noaa_clean"
   ]
  },
  {
   "cell_type": "code",
   "execution_count": 4,
   "metadata": {},
   "outputs": [
    {
     "data": {
      "text/plain": [
       "(433,)"
      ]
     },
     "execution_count": 4,
     "metadata": {},
     "output_type": "execute_result"
    }
   ],
   "source": [
    "noaa_raw['year'].shape"
   ]
  },
  {
   "cell_type": "code",
   "execution_count": 5,
   "metadata": {},
   "outputs": [
    {
     "data": {
      "text/plain": [
       "(433,)"
      ]
     },
     "execution_count": 5,
     "metadata": {},
     "output_type": "execute_result"
    }
   ],
   "source": [
    "noaa_clean['month'].shape"
   ]
  },
  {
   "cell_type": "code",
   "execution_count": 6,
   "metadata": {},
   "outputs": [],
   "source": [
    "time_df = pd.DataFrame({'year': noaa_raw['year'].values,\n",
    "              'month': noaa_clean['month'].values,\n",
    "              'day': np.ones(433,)})"
   ]
  },
  {
   "cell_type": "code",
   "execution_count": 7,
   "metadata": {},
   "outputs": [
    {
     "data": {
      "text/plain": [
       "0     1983-07-01\n",
       "1     1983-08-01\n",
       "2     1983-09-01\n",
       "3     1983-10-01\n",
       "4     1983-11-01\n",
       "         ...    \n",
       "428   2019-03-01\n",
       "429   2019-04-01\n",
       "430   2019-05-01\n",
       "431   2019-06-01\n",
       "432   2019-07-01\n",
       "Length: 433, dtype: datetime64[ns]"
      ]
     },
     "execution_count": 7,
     "metadata": {},
     "output_type": "execute_result"
    }
   ],
   "source": [
    "time = pd.to_datetime(time_df)\n",
    "time"
   ]
  },
  {
   "cell_type": "code",
   "execution_count": 8,
   "metadata": {},
   "outputs": [
    {
     "data": {
      "text/html": [
       "<div>\n",
       "<style scoped>\n",
       "    .dataframe tbody tr th:only-of-type {\n",
       "        vertical-align: middle;\n",
       "    }\n",
       "\n",
       "    .dataframe tbody tr th {\n",
       "        vertical-align: top;\n",
       "    }\n",
       "\n",
       "    .dataframe thead th {\n",
       "        text-align: right;\n",
       "    }\n",
       "</style>\n",
       "<table border=\"1\" class=\"dataframe\">\n",
       "  <thead>\n",
       "    <tr style=\"text-align: right;\">\n",
       "      <th></th>\n",
       "      <th>time</th>\n",
       "    </tr>\n",
       "  </thead>\n",
       "  <tbody>\n",
       "    <tr>\n",
       "      <th>0</th>\n",
       "      <td>1983-07-01</td>\n",
       "    </tr>\n",
       "    <tr>\n",
       "      <th>1</th>\n",
       "      <td>1983-08-01</td>\n",
       "    </tr>\n",
       "    <tr>\n",
       "      <th>2</th>\n",
       "      <td>1983-09-01</td>\n",
       "    </tr>\n",
       "    <tr>\n",
       "      <th>3</th>\n",
       "      <td>1983-10-01</td>\n",
       "    </tr>\n",
       "  </tbody>\n",
       "</table>\n",
       "</div>"
      ],
      "text/plain": [
       "        time\n",
       "0 1983-07-01\n",
       "1 1983-08-01\n",
       "2 1983-09-01\n",
       "3 1983-10-01"
      ]
     },
     "execution_count": 8,
     "metadata": {},
     "output_type": "execute_result"
    }
   ],
   "source": [
    "time_pdseries = time.to_frame(name='time')\n",
    "time_pdseries.head(4)"
   ]
  },
  {
   "cell_type": "code",
   "execution_count": 9,
   "metadata": {},
   "outputs": [
    {
     "data": {
      "text/plain": [
       "0     1983-07-01\n",
       "1     1983-08-01\n",
       "2     1983-09-01\n",
       "3     1983-10-01\n",
       "4     1983-11-01\n",
       "         ...    \n",
       "428   2019-03-01\n",
       "429   2019-04-01\n",
       "430   2019-05-01\n",
       "431   2019-06-01\n",
       "432   2019-07-01\n",
       "Name: time, Length: 433, dtype: datetime64[ns]"
      ]
     },
     "execution_count": 9,
     "metadata": {},
     "output_type": "execute_result"
    }
   ],
   "source": [
    "time_pdseries.time"
   ]
  },
  {
   "cell_type": "code",
   "execution_count": 10,
   "metadata": {},
   "outputs": [
    {
     "data": {
      "text/plain": [
       "<xarray.Dataset>\n",
       "Dimensions:      (year: 433)\n",
       "Coordinates:\n",
       "  * year         (year) int64 1983 1983 1983 1983 1983 ... 2019 2019 2019 2019\n",
       "Data variables:\n",
       "    month        (year) int64 7 8 9 10 11 12 1 2 3 4 ... 10 11 12 1 2 3 4 5 6 7\n",
       "    average      (year) float64 1.626e+03 1.628e+03 ... 1.86e+03 1.859e+03\n",
       "    average_unc  (year) float64 2.5 3.1 2.5 1.6 0.7 ... -9.9 -9.9 -9.9 -9.9 -9.9\n",
       "    trend        (year) float64 1.635e+03 1.635e+03 ... 1.867e+03 1.868e+03\n",
       "    trend_unc    (year) float64 1.6 1.5 1.4 1.4 1.3 ... -9.9 -9.9 -9.9 -9.9 -9.9"
      ]
     },
     "execution_count": 10,
     "metadata": {},
     "output_type": "execute_result"
    }
   ],
   "source": [
    "noaa_xr = xr.Dataset.from_dataframe(noaa_clean)\n",
    "noaa_xr"
   ]
  },
  {
   "cell_type": "code",
   "execution_count": 11,
   "metadata": {},
   "outputs": [
    {
     "data": {
      "text/plain": [
       "<xarray.Dataset>\n",
       "Dimensions:      (dim_0: 433, year: 433)\n",
       "Coordinates:\n",
       "  * year         (year) int64 1983 1983 1983 1983 1983 ... 2019 2019 2019 2019\n",
       "  * dim_0        (dim_0) int64 0 1 2 3 4 5 6 7 ... 426 427 428 429 430 431 432\n",
       "    time         (dim_0) datetime64[ns] 1983-07-01 1983-08-01 ... 2019-07-01\n",
       "Data variables:\n",
       "    month        (year) int64 7 8 9 10 11 12 1 2 3 4 ... 10 11 12 1 2 3 4 5 6 7\n",
       "    average      (year) float64 1.626e+03 1.628e+03 ... 1.86e+03 1.859e+03\n",
       "    average_unc  (year) float64 2.5 3.1 2.5 1.6 0.7 ... -9.9 -9.9 -9.9 -9.9 -9.9\n",
       "    trend        (year) float64 1.635e+03 1.635e+03 ... 1.867e+03 1.868e+03\n",
       "    trend_unc    (year) float64 1.6 1.5 1.4 1.4 1.3 ... -9.9 -9.9 -9.9 -9.9 -9.9"
      ]
     },
     "execution_count": 11,
     "metadata": {},
     "output_type": "execute_result"
    }
   ],
   "source": [
    "noaa = noaa_xr.assign_coords({'time': time})\n",
    "noaa"
   ]
  },
  {
   "cell_type": "code",
   "execution_count": 12,
   "metadata": {},
   "outputs": [
    {
     "data": {
      "text/plain": [
       "<xarray.Dataset>\n",
       "Dimensions:      (time: 433, year: 433)\n",
       "Coordinates:\n",
       "  * year         (year) int64 1983 1983 1983 1983 1983 ... 2019 2019 2019 2019\n",
       "    dim_0        (time) int64 0 1 2 3 4 5 6 7 ... 426 427 428 429 430 431 432\n",
       "  * time         (time) datetime64[ns] 1983-07-01 1983-08-01 ... 2019-07-01\n",
       "Data variables:\n",
       "    month        (year) int64 7 8 9 10 11 12 1 2 3 4 ... 10 11 12 1 2 3 4 5 6 7\n",
       "    average      (year) float64 1.626e+03 1.628e+03 ... 1.86e+03 1.859e+03\n",
       "    average_unc  (year) float64 2.5 3.1 2.5 1.6 0.7 ... -9.9 -9.9 -9.9 -9.9 -9.9\n",
       "    trend        (year) float64 1.635e+03 1.635e+03 ... 1.867e+03 1.868e+03\n",
       "    trend_unc    (year) float64 1.6 1.5 1.4 1.4 1.3 ... -9.9 -9.9 -9.9 -9.9 -9.9"
      ]
     },
     "execution_count": 12,
     "metadata": {},
     "output_type": "execute_result"
    }
   ],
   "source": [
    "#changing time to be dim-coords from it's pd df index dim_0\n",
    "noaa = noaa.swap_dims({'dim_0' : 'time'})\n",
    "noaa"
   ]
  },
  {
   "cell_type": "code",
   "execution_count": null,
   "metadata": {},
   "outputs": [],
   "source": [
    "noaa = noaa.drop(labels='month')"
   ]
  },
  {
   "cell_type": "code",
   "execution_count": 21,
   "metadata": {},
   "outputs": [
    {
     "data": {
      "text/plain": [
       "<xarray.Dataset>\n",
       "Dimensions:      (time: 433, year: 433)\n",
       "Coordinates:\n",
       "  * year         (year) int64 1983 1983 1983 1983 1983 ... 2019 2019 2019 2019\n",
       "    dim_0        (time) int64 0 1 2 3 4 5 6 7 ... 426 427 428 429 430 431 432\n",
       "  * time         (time) datetime64[ns] 1983-07-01 1983-08-01 ... 2019-07-01\n",
       "Data variables:\n",
       "    average      (year) float64 1.626e+03 1.628e+03 ... 1.86e+03 1.859e+03\n",
       "    average_unc  (year) float64 2.5 3.1 2.5 1.6 0.7 ... -9.9 -9.9 -9.9 -9.9 -9.9\n",
       "    trend        (year) float64 1.635e+03 1.635e+03 ... 1.867e+03 1.868e+03\n",
       "    trend_unc    (year) float64 1.6 1.5 1.4 1.4 1.3 ... -9.9 -9.9 -9.9 -9.9 -9.9"
      ]
     },
     "execution_count": 21,
     "metadata": {},
     "output_type": "execute_result"
    }
   ],
   "source": [
    "noaa"
   ]
  },
  {
   "cell_type": "code",
   "execution_count": null,
   "metadata": {},
   "outputs": [],
   "source": [
    "noaa.to_netcdf(mode='w', path='./data/noaa.nc')"
   ]
  },
  {
   "cell_type": "markdown",
   "metadata": {},
   "source": [
    "## NOAA vs methane (wetlands and anthropogenic) yearly averages"
   ]
  },
  {
   "cell_type": "code",
   "execution_count": 29,
   "metadata": {},
   "outputs": [
    {
     "data": {
      "text/plain": [
       "<xarray.DataArray 'average' (year: 433)>\n",
       "array([1625.9, 1628. , 1638.4, 1644.8, 1642.6, 1639.5, 1638.7, 1638.8,\n",
       "       1640.7, 1643.7, 1642.9, 1639.6, 1637.8, 1641.3, 1650.4, 1654.5,\n",
       "       1653.6, 1656.1, 1655.5, 1652.2, 1654.6, 1658.1, 1655.8, 1650. ,\n",
       "       1646.8, 1652.2, 1662.5, 1667.6, 1666.8, 1666. , 1666.3, 1666.9,\n",
       "       1669.3, 1670.8, 1668.4, 1664.7, 1662.3, 1664.3, 1672.6, 1678.7,\n",
       "       1678.9, 1679.1, 1679.3, 1678.9, 1680. , 1681.5, 1682. , 1680.1,\n",
       "       1676. , 1677.1, 1685.7, 1691.7, 1691.2, 1690.5, 1692. , 1692.5,\n",
       "       1691.2, 1690. , 1689. , 1687.1, 1685.9, 1689.3, 1696.2, 1701.3,\n",
       "       1702.8, 1701.9, 1700.6, 1701.1, 1702.6, 1703.8, 1703.4, 1700.2,\n",
       "       1698.2, 1702. , 1707.2, 1710.6, 1713.1, 1713.1, 1712. , 1713.3,\n",
       "       1714.3, 1712.7, 1710.7, 1708.3, 1706.4, 1710.1, 1717.5, 1722.1,\n",
       "       1723.5, 1723.4, 1721.7, 1721.2, 1722. , 1722.6, 1722.4, 1719.2,\n",
       "       1716.2, 1719.3, 1726.3, 1732.8, 1737.5, 1739.6, 1738.9, 1737.3,\n",
       "       1736.9, 1736.6, 1734.9, 1731.5, 1728.7, 1730.3, 1734.6, 1737.8,\n",
       "       1739.4, 1738.6, 1735.7, 1734.4, 1735.5, 1736.7, 1735. , 1730.8,\n",
       "       1728. , 1731.2, 1738.4, 1743.3, 1745.1, 1744.2, 1741.5, 1740.9,\n",
       "       1741.9, 1741.9, 1740.6, 1736.9, 1732.4, 1734. , 1742.9, 1749.9,\n",
       "       1751.2, 1751.5, 1751. , 1749.4, 1749. , 1749.5, 1747.7, 1742.8,\n",
       "       1740.1, 1743.5, 1749.7, 1754.3, 1755.3, 1753.7, 1752.4, 1752.9,\n",
       "       1752.4, 1749.9, 1748.6, 1746.2, 1742.2, 1744.7, 1753. , 1759. ,\n",
       "       1759.9, 1756.8, 1753.4, 1753.8, 1755.6, 1755.6, 1753.9, 1750.2,\n",
       "       1746.2, 1747.9, 1755.1, 1760.3, 1761.7, 1761.9, 1761.5, 1761.6,\n",
       "       1763.1, 1764.8, 1764.3, 1760.3, 1756.1, 1760. , 1770.5, 1776.2,\n",
       "       1775.5, 1774.2, 1774. , 1774.1, 1774.7, 1775. , 1772.7, 1767.4,\n",
       "       1763. , 1764.7, 1771.1, 1776.7, 1778.5, 1777.3, 1775.8, 1775.8,\n",
       "       1776.7, 1777.2, 1774.5, 1768.1, 1763.6, 1765.5, 1772.1, 1777.1,\n",
       "       1777.7, 1775.3, 1772.9, 1772.5, 1773.7, 1774. , 1770.9, 1765.9,\n",
       "       1762.7, 1764.3, 1770.5, 1775.6, 1776.6, 1775.9, 1774.1, 1772.8,\n",
       "       1773.4, 1772.7, 1770.2, 1766.9, 1764.4, 1767.1, 1773.8, 1778.3,\n",
       "       1779.6, 1779.8, 1777.6, 1774.9, 1774.9, 1775.9, 1774.5, 1771.7,\n",
       "       1770.7, 1774.2, 1780.5, 1784.7, 1785.4, 1783.6, 1780.9, 1780. ,\n",
       "       1781. , 1780.7, 1777.5, 1772.2, 1768. , 1769.6, 1775.4, 1779.6,\n",
       "       1780.4, 1778.3, 1776.1, 1775.6, 1775.4, 1774.5, 1772.2, 1768.6,\n",
       "       1766.3, 1768. , 1773.1, 1778.5, 1781. , 1780. , 1779.5, 1779.6,\n",
       "       1777.5, 1776.2, 1775. , 1769.3, 1764. , 1767.1, 1774.6, 1778.4,\n",
       "       1779.2, 1780. , 1779.3, 1778.7, 1780.4, 1781.2, 1779.5, 1775.6,\n",
       "       1772.6, 1777.2, 1785.9, 1789.9, 1789.6, 1788.3, 1786.8, 1785.8,\n",
       "       1786.1, 1786.8, 1785.1, 1780.4, 1777.6, 1781. , 1787.7, 1793.8,\n",
       "       1797.4, 1796.7, 1795.2, 1795.7, 1796. , 1795.6, 1792.3, 1786.8,\n",
       "       1785. , 1788.8, 1794.8, 1798. , 1797.8, 1796.6, 1797.2, 1798.9,\n",
       "       1799.5, 1799.6, 1797.8, 1792.7, 1789.5, 1794.1, 1801.9, 1806.6,\n",
       "       1807. , 1803.6, 1800.5, 1800.2, 1801. , 1802.9, 1803.3, 1799.2,\n",
       "       1796.1, 1798.9, 1804. , 1809.5, 1812.3, 1810. , 1807.3, 1808.2,\n",
       "       1809.9, 1808.4, 1804.7, 1800.9, 1799.3, 1803.2, 1810.1, 1814.8,\n",
       "       1815.9, 1814.5, 1814.2, 1814.2, 1813.2, 1812.7, 1811.8, 1808.5,\n",
       "       1805.8, 1808.4, 1814.4, 1818.6, 1820.3, 1819.3, 1816.9, 1816.4,\n",
       "       1818.1, 1820.9, 1821.9, 1818.4, 1815.6, 1819.8, 1826.9, 1831.3,\n",
       "       1833.1, 1833.5, 1833. , 1832.8, 1833. , 1833.2, 1831.7, 1827.3,\n",
       "       1824.8, 1829.1, 1836.2, 1841.5, 1844.7, 1844.9, 1842.5, 1841.6,\n",
       "       1843. , 1843.7, 1842.1, 1837.9, 1834.3, 1836.7, 1844.2, 1849.9,\n",
       "       1851.4, 1851. , 1849.8, 1848.6, 1848.4, 1848.6, 1847. , 1842.9,\n",
       "       1840.4, 1844.7, 1852.8, 1858.1, 1858.7, 1856.6, 1854.5, 1855.1,\n",
       "       1856.9, 1856.6, 1854.7, 1851.9, 1849. , 1851.8, 1860.4, 1865.7,\n",
       "       1866.2, 1865.8, 1864.7, 1864.6, 1866. , 1865.1, 1862.2, 1859.9,\n",
       "       1858.6])\n",
       "Coordinates:\n",
       "  * year     (year) int64 1983 1983 1983 1983 1983 ... 2019 2019 2019 2019 2019"
      ]
     },
     "execution_count": 29,
     "metadata": {},
     "output_type": "execute_result"
    }
   ],
   "source": [
    "noaa.average"
   ]
  },
  {
   "cell_type": "code",
   "execution_count": null,
   "metadata": {},
   "outputs": [],
   "source": []
  }
 ],
 "metadata": {
  "kernelspec": {
   "display_name": "Python 3",
   "language": "python",
   "name": "python3"
  },
  "language_info": {
   "codemirror_mode": {
    "name": "ipython",
    "version": 3
   },
   "file_extension": ".py",
   "mimetype": "text/x-python",
   "name": "python",
   "nbconvert_exporter": "python",
   "pygments_lexer": "ipython3",
   "version": "3.7.3"
  }
 },
 "nbformat": 4,
 "nbformat_minor": 4
}
