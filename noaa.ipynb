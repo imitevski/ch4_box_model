{
 "cells": [
  {
   "cell_type": "markdown",
   "metadata": {},
   "source": [
    "# NOAA"
   ]
  },
  {
   "cell_type": "code",
   "execution_count": 3,
   "metadata": {},
   "outputs": [],
   "source": [
    "import xarray as xr\n",
    "import matplotlib.pyplot as plt\n",
    "import pandas as pd\n",
    "import numpy as np \n",
    "# %matplotlib inline"
   ]
  },
  {
   "cell_type": "code",
   "execution_count": 8,
   "metadata": {},
   "outputs": [
    {
     "name": "stdout",
     "output_type": "stream",
     "text": [
      "CH4_emissions_seasonal.pdf\r\n",
      "CH4_seasonal.pdf\r\n",
      "OH_concentration.pdf\r\n",
      "OH_concentration_zonal_mean.nc\r\n",
      "README.md\r\n",
      "ch4_antropogenic_emissions_zonal_model_mean.nc\r\n",
      "ch4_mm_gl.txt\r\n",
      "data_means.py\r\n",
      "\u001b[1m\u001b[36mfigures\u001b[m\u001b[m/\r\n",
      "methane_twobox_lab2pII_tvaryOH.ipynb\r\n",
      "noaa.ipynb\r\n",
      "notfoundorders.html\r\n",
      "plot.py\r\n",
      "units_conversion.py\r\n",
      "wetland_emissions_zonal_model_mean.nc\r\n"
     ]
    }
   ],
   "source": [
    "ls"
   ]
  },
  {
   "cell_type": "code",
   "execution_count": 9,
   "metadata": {},
   "outputs": [
    {
     "data": {
      "text/html": [
       "<div>\n",
       "<style scoped>\n",
       "    .dataframe tbody tr th:only-of-type {\n",
       "        vertical-align: middle;\n",
       "    }\n",
       "\n",
       "    .dataframe tbody tr th {\n",
       "        vertical-align: top;\n",
       "    }\n",
       "\n",
       "    .dataframe thead th {\n",
       "        text-align: right;\n",
       "    }\n",
       "</style>\n",
       "<table border=\"1\" class=\"dataframe\">\n",
       "  <thead>\n",
       "    <tr style=\"text-align: right;\">\n",
       "      <th></th>\n",
       "      <th>year</th>\n",
       "      <th>month</th>\n",
       "      <th>decimal</th>\n",
       "      <th>average</th>\n",
       "      <th>average_unc</th>\n",
       "      <th>trend</th>\n",
       "      <th>trend_unc</th>\n",
       "    </tr>\n",
       "  </thead>\n",
       "  <tbody>\n",
       "    <tr>\n",
       "      <th>0</th>\n",
       "      <td>1983</td>\n",
       "      <td>7</td>\n",
       "      <td>1983.542</td>\n",
       "      <td>1625.9</td>\n",
       "      <td>2.5</td>\n",
       "      <td>1634.6</td>\n",
       "      <td>1.6</td>\n",
       "    </tr>\n",
       "    <tr>\n",
       "      <th>1</th>\n",
       "      <td>1983</td>\n",
       "      <td>8</td>\n",
       "      <td>1983.625</td>\n",
       "      <td>1628.0</td>\n",
       "      <td>3.1</td>\n",
       "      <td>1635.2</td>\n",
       "      <td>1.5</td>\n",
       "    </tr>\n",
       "    <tr>\n",
       "      <th>2</th>\n",
       "      <td>1983</td>\n",
       "      <td>9</td>\n",
       "      <td>1983.708</td>\n",
       "      <td>1638.4</td>\n",
       "      <td>2.5</td>\n",
       "      <td>1635.9</td>\n",
       "      <td>1.4</td>\n",
       "    </tr>\n",
       "    <tr>\n",
       "      <th>3</th>\n",
       "      <td>1983</td>\n",
       "      <td>10</td>\n",
       "      <td>1983.792</td>\n",
       "      <td>1644.8</td>\n",
       "      <td>1.6</td>\n",
       "      <td>1636.6</td>\n",
       "      <td>1.4</td>\n",
       "    </tr>\n",
       "    <tr>\n",
       "      <th>4</th>\n",
       "      <td>1983</td>\n",
       "      <td>11</td>\n",
       "      <td>1983.875</td>\n",
       "      <td>1642.6</td>\n",
       "      <td>0.7</td>\n",
       "      <td>1637.4</td>\n",
       "      <td>1.3</td>\n",
       "    </tr>\n",
       "    <tr>\n",
       "      <th>...</th>\n",
       "      <td>...</td>\n",
       "      <td>...</td>\n",
       "      <td>...</td>\n",
       "      <td>...</td>\n",
       "      <td>...</td>\n",
       "      <td>...</td>\n",
       "      <td>...</td>\n",
       "    </tr>\n",
       "    <tr>\n",
       "      <th>428</th>\n",
       "      <td>2019</td>\n",
       "      <td>3</td>\n",
       "      <td>2019.208</td>\n",
       "      <td>1866.0</td>\n",
       "      <td>-9.9</td>\n",
       "      <td>1864.4</td>\n",
       "      <td>-9.9</td>\n",
       "    </tr>\n",
       "    <tr>\n",
       "      <th>429</th>\n",
       "      <td>2019</td>\n",
       "      <td>4</td>\n",
       "      <td>2019.292</td>\n",
       "      <td>1865.1</td>\n",
       "      <td>-9.9</td>\n",
       "      <td>1865.3</td>\n",
       "      <td>-9.9</td>\n",
       "    </tr>\n",
       "    <tr>\n",
       "      <th>430</th>\n",
       "      <td>2019</td>\n",
       "      <td>5</td>\n",
       "      <td>2019.375</td>\n",
       "      <td>1862.2</td>\n",
       "      <td>-9.9</td>\n",
       "      <td>1866.3</td>\n",
       "      <td>-9.9</td>\n",
       "    </tr>\n",
       "    <tr>\n",
       "      <th>431</th>\n",
       "      <td>2019</td>\n",
       "      <td>6</td>\n",
       "      <td>2019.458</td>\n",
       "      <td>1859.9</td>\n",
       "      <td>-9.9</td>\n",
       "      <td>1867.3</td>\n",
       "      <td>-9.9</td>\n",
       "    </tr>\n",
       "    <tr>\n",
       "      <th>432</th>\n",
       "      <td>2019</td>\n",
       "      <td>7</td>\n",
       "      <td>2019.542</td>\n",
       "      <td>1858.6</td>\n",
       "      <td>-9.9</td>\n",
       "      <td>1868.2</td>\n",
       "      <td>-9.9</td>\n",
       "    </tr>\n",
       "  </tbody>\n",
       "</table>\n",
       "<p>433 rows × 7 columns</p>\n",
       "</div>"
      ],
      "text/plain": [
       "     year  month   decimal  average  average_unc   trend  trend_unc\n",
       "0    1983      7  1983.542   1625.9          2.5  1634.6        1.6\n",
       "1    1983      8  1983.625   1628.0          3.1  1635.2        1.5\n",
       "2    1983      9  1983.708   1638.4          2.5  1635.9        1.4\n",
       "3    1983     10  1983.792   1644.8          1.6  1636.6        1.4\n",
       "4    1983     11  1983.875   1642.6          0.7  1637.4        1.3\n",
       "..    ...    ...       ...      ...          ...     ...        ...\n",
       "428  2019      3  2019.208   1866.0         -9.9  1864.4       -9.9\n",
       "429  2019      4  2019.292   1865.1         -9.9  1865.3       -9.9\n",
       "430  2019      5  2019.375   1862.2         -9.9  1866.3       -9.9\n",
       "431  2019      6  2019.458   1859.9         -9.9  1867.3       -9.9\n",
       "432  2019      7  2019.542   1858.6         -9.9  1868.2       -9.9\n",
       "\n",
       "[433 rows x 7 columns]"
      ]
     },
     "execution_count": 9,
     "metadata": {},
     "output_type": "execute_result"
    }
   ],
   "source": [
    "noaa_raw = pd.read_csv('ch4_mm_gl.txt', comment='#', delim_whitespace=True)\n",
    "noaa_raw"
   ]
  },
  {
   "cell_type": "code",
   "execution_count": 35,
   "metadata": {},
   "outputs": [
    {
     "data": {
      "text/html": [
       "<div>\n",
       "<style scoped>\n",
       "    .dataframe tbody tr th:only-of-type {\n",
       "        vertical-align: middle;\n",
       "    }\n",
       "\n",
       "    .dataframe tbody tr th {\n",
       "        vertical-align: top;\n",
       "    }\n",
       "\n",
       "    .dataframe thead th {\n",
       "        text-align: right;\n",
       "    }\n",
       "</style>\n",
       "<table border=\"1\" class=\"dataframe\">\n",
       "  <thead>\n",
       "    <tr style=\"text-align: right;\">\n",
       "      <th></th>\n",
       "      <th>month</th>\n",
       "      <th>average</th>\n",
       "      <th>average_unc</th>\n",
       "      <th>trend</th>\n",
       "      <th>trend_unc</th>\n",
       "    </tr>\n",
       "    <tr>\n",
       "      <th>year</th>\n",
       "      <th></th>\n",
       "      <th></th>\n",
       "      <th></th>\n",
       "      <th></th>\n",
       "      <th></th>\n",
       "    </tr>\n",
       "  </thead>\n",
       "  <tbody>\n",
       "    <tr>\n",
       "      <th>1983</th>\n",
       "      <td>7</td>\n",
       "      <td>1625.9</td>\n",
       "      <td>2.5</td>\n",
       "      <td>1634.6</td>\n",
       "      <td>1.6</td>\n",
       "    </tr>\n",
       "    <tr>\n",
       "      <th>1983</th>\n",
       "      <td>8</td>\n",
       "      <td>1628.0</td>\n",
       "      <td>3.1</td>\n",
       "      <td>1635.2</td>\n",
       "      <td>1.5</td>\n",
       "    </tr>\n",
       "    <tr>\n",
       "      <th>1983</th>\n",
       "      <td>9</td>\n",
       "      <td>1638.4</td>\n",
       "      <td>2.5</td>\n",
       "      <td>1635.9</td>\n",
       "      <td>1.4</td>\n",
       "    </tr>\n",
       "    <tr>\n",
       "      <th>1983</th>\n",
       "      <td>10</td>\n",
       "      <td>1644.8</td>\n",
       "      <td>1.6</td>\n",
       "      <td>1636.6</td>\n",
       "      <td>1.4</td>\n",
       "    </tr>\n",
       "    <tr>\n",
       "      <th>1983</th>\n",
       "      <td>11</td>\n",
       "      <td>1642.6</td>\n",
       "      <td>0.7</td>\n",
       "      <td>1637.4</td>\n",
       "      <td>1.3</td>\n",
       "    </tr>\n",
       "    <tr>\n",
       "      <th>...</th>\n",
       "      <td>...</td>\n",
       "      <td>...</td>\n",
       "      <td>...</td>\n",
       "      <td>...</td>\n",
       "      <td>...</td>\n",
       "    </tr>\n",
       "    <tr>\n",
       "      <th>2019</th>\n",
       "      <td>3</td>\n",
       "      <td>1866.0</td>\n",
       "      <td>-9.9</td>\n",
       "      <td>1864.4</td>\n",
       "      <td>-9.9</td>\n",
       "    </tr>\n",
       "    <tr>\n",
       "      <th>2019</th>\n",
       "      <td>4</td>\n",
       "      <td>1865.1</td>\n",
       "      <td>-9.9</td>\n",
       "      <td>1865.3</td>\n",
       "      <td>-9.9</td>\n",
       "    </tr>\n",
       "    <tr>\n",
       "      <th>2019</th>\n",
       "      <td>5</td>\n",
       "      <td>1862.2</td>\n",
       "      <td>-9.9</td>\n",
       "      <td>1866.3</td>\n",
       "      <td>-9.9</td>\n",
       "    </tr>\n",
       "    <tr>\n",
       "      <th>2019</th>\n",
       "      <td>6</td>\n",
       "      <td>1859.9</td>\n",
       "      <td>-9.9</td>\n",
       "      <td>1867.3</td>\n",
       "      <td>-9.9</td>\n",
       "    </tr>\n",
       "    <tr>\n",
       "      <th>2019</th>\n",
       "      <td>7</td>\n",
       "      <td>1858.6</td>\n",
       "      <td>-9.9</td>\n",
       "      <td>1868.2</td>\n",
       "      <td>-9.9</td>\n",
       "    </tr>\n",
       "  </tbody>\n",
       "</table>\n",
       "<p>433 rows × 5 columns</p>\n",
       "</div>"
      ],
      "text/plain": [
       "      month  average  average_unc   trend  trend_unc\n",
       "year                                                \n",
       "1983      7   1625.9          2.5  1634.6        1.6\n",
       "1983      8   1628.0          3.1  1635.2        1.5\n",
       "1983      9   1638.4          2.5  1635.9        1.4\n",
       "1983     10   1644.8          1.6  1636.6        1.4\n",
       "1983     11   1642.6          0.7  1637.4        1.3\n",
       "...     ...      ...          ...     ...        ...\n",
       "2019      3   1866.0         -9.9  1864.4       -9.9\n",
       "2019      4   1865.1         -9.9  1865.3       -9.9\n",
       "2019      5   1862.2         -9.9  1866.3       -9.9\n",
       "2019      6   1859.9         -9.9  1867.3       -9.9\n",
       "2019      7   1858.6         -9.9  1868.2       -9.9\n",
       "\n",
       "[433 rows x 5 columns]"
      ]
     },
     "execution_count": 35,
     "metadata": {},
     "output_type": "execute_result"
    }
   ],
   "source": [
    "noaa_clean = noaa_raw.drop(columns='decimal').sort_values(['year', 'month'], ascending=True).set_index('year')\n",
    "noaa_clean"
   ]
  },
  {
   "cell_type": "code",
   "execution_count": 21,
   "metadata": {},
   "outputs": [
    {
     "data": {
      "text/html": [
       "<pre>&lt;xarray.DataArray &#x27;month&#x27; (year: 433)&gt;\n",
       "array([7, 8, 9, ..., 5, 6, 7])\n",
       "Coordinates:\n",
       "  * year     (year) int64 1983 1983 1983 1983 1983 ... 2019 2019 2019 2019 2019</pre>"
      ],
      "text/plain": [
       "<xarray.DataArray 'month' (year: 433)>\n",
       "array([7, 8, 9, ..., 5, 6, 7])\n",
       "Coordinates:\n",
       "  * year     (year) int64 1983 1983 1983 1983 1983 ... 2019 2019 2019 2019 2019"
      ]
     },
     "execution_count": 21,
     "metadata": {},
     "output_type": "execute_result"
    }
   ],
   "source": [
    "# noaa_xr = xr.Dataset.from_dataframe(noaa_clean)\n",
    "noaa_xr.month"
   ]
  },
  {
   "cell_type": "code",
   "execution_count": 12,
   "metadata": {},
   "outputs": [
    {
     "data": {
      "text/html": [
       "<pre>&lt;xarray.DataArray &#x27;month&#x27; (year: 433)&gt;\n",
       "array([7, 8, 9, ..., 5, 6, 7])\n",
       "Coordinates:\n",
       "  * year     (year) int64 1983 1983 1983 1983 1983 ... 2019 2019 2019 2019 2019</pre>"
      ],
      "text/plain": [
       "<xarray.DataArray 'month' (year: 433)>\n",
       "array([7, 8, 9, ..., 5, 6, 7])\n",
       "Coordinates:\n",
       "  * year     (year) int64 1983 1983 1983 1983 1983 ... 2019 2019 2019 2019 2019"
      ]
     },
     "execution_count": 12,
     "metadata": {},
     "output_type": "execute_result"
    }
   ],
   "source": [
    "noaa_xr.month"
   ]
  },
  {
   "cell_type": "code",
   "execution_count": 13,
   "metadata": {},
   "outputs": [
    {
     "data": {
      "text/html": [
       "<pre>&lt;xarray.Dataset&gt;\n",
       "Dimensions:      (year: 433)\n",
       "Coordinates:\n",
       "  * year         (year) int64 1983 1983 1983 1983 1983 ... 2019 2019 2019 2019\n",
       "    month        (year) int64 7 8 9 10 11 12 1 2 3 4 ... 10 11 12 1 2 3 4 5 6 7\n",
       "Data variables:\n",
       "    average      (year) float64 1.626e+03 1.628e+03 ... 1.86e+03 1.859e+03\n",
       "    average_unc  (year) float64 2.5 3.1 2.5 1.6 0.7 ... -9.9 -9.9 -9.9 -9.9 -9.9\n",
       "    trend        (year) float64 1.635e+03 1.635e+03 ... 1.867e+03 1.868e+03\n",
       "    trend_unc    (year) float64 1.6 1.5 1.4 1.4 1.3 ... -9.9 -9.9 -9.9 -9.9 -9.9</pre>"
      ],
      "text/plain": [
       "<xarray.Dataset>\n",
       "Dimensions:      (year: 433)\n",
       "Coordinates:\n",
       "  * year         (year) int64 1983 1983 1983 1983 1983 ... 2019 2019 2019 2019\n",
       "    month        (year) int64 7 8 9 10 11 12 1 2 3 4 ... 10 11 12 1 2 3 4 5 6 7\n",
       "Data variables:\n",
       "    average      (year) float64 1.626e+03 1.628e+03 ... 1.86e+03 1.859e+03\n",
       "    average_unc  (year) float64 2.5 3.1 2.5 1.6 0.7 ... -9.9 -9.9 -9.9 -9.9 -9.9\n",
       "    trend        (year) float64 1.635e+03 1.635e+03 ... 1.867e+03 1.868e+03\n",
       "    trend_unc    (year) float64 1.6 1.5 1.4 1.4 1.3 ... -9.9 -9.9 -9.9 -9.9 -9.9"
      ]
     },
     "execution_count": 13,
     "metadata": {},
     "output_type": "execute_result"
    }
   ],
   "source": [
    "noaa = noaa_xr.assign_coords({'month': noaa_xr.month})\n",
    "noaa"
   ]
  },
  {
   "cell_type": "code",
   "execution_count": 14,
   "metadata": {},
   "outputs": [
    {
     "ename": "AttributeError",
     "evalue": "module 'dask' has no attribute 'base'",
     "output_type": "error",
     "traceback": [
      "\u001b[0;31m---------------------------------------------------------------------------\u001b[0m",
      "\u001b[0;31mAttributeError\u001b[0m                            Traceback (most recent call last)",
      "\u001b[0;32m<ipython-input-14-12c5b5373433>\u001b[0m in \u001b[0;36m<module>\u001b[0;34m\u001b[0m\n\u001b[0;32m----> 1\u001b[0;31m \u001b[0mnoaa\u001b[0m\u001b[0;34m.\u001b[0m\u001b[0mto_netcdf\u001b[0m\u001b[0;34m(\u001b[0m\u001b[0mpath\u001b[0m\u001b[0;34m=\u001b[0m\u001b[0;34m'data/'\u001b[0m\u001b[0;34m)\u001b[0m\u001b[0;34m\u001b[0m\u001b[0m\n\u001b[0m",
      "\u001b[0;32m/Library/Frameworks/Python.framework/Versions/3.7/lib/python3.7/site-packages/xarray/core/dataset.py\u001b[0m in \u001b[0;36mto_netcdf\u001b[0;34m(self, path, mode, format, group, engine, encoding, unlimited_dims, compute, invalid_netcdf)\u001b[0m\n\u001b[1;32m   1545\u001b[0m             \u001b[0munlimited_dims\u001b[0m\u001b[0;34m=\u001b[0m\u001b[0munlimited_dims\u001b[0m\u001b[0;34m,\u001b[0m\u001b[0;34m\u001b[0m\u001b[0m\n\u001b[1;32m   1546\u001b[0m             \u001b[0mcompute\u001b[0m\u001b[0;34m=\u001b[0m\u001b[0mcompute\u001b[0m\u001b[0;34m,\u001b[0m\u001b[0;34m\u001b[0m\u001b[0m\n\u001b[0;32m-> 1547\u001b[0;31m             \u001b[0minvalid_netcdf\u001b[0m\u001b[0;34m=\u001b[0m\u001b[0minvalid_netcdf\u001b[0m\u001b[0;34m,\u001b[0m\u001b[0;34m\u001b[0m\u001b[0m\n\u001b[0m\u001b[1;32m   1548\u001b[0m         )\n\u001b[1;32m   1549\u001b[0m \u001b[0;34m\u001b[0m\u001b[0m\n",
      "\u001b[0;32m/Library/Frameworks/Python.framework/Versions/3.7/lib/python3.7/site-packages/xarray/backends/api.py\u001b[0m in \u001b[0;36mto_netcdf\u001b[0;34m(dataset, path_or_file, mode, format, group, engine, encoding, unlimited_dims, compute, multifile, invalid_netcdf)\u001b[0m\n\u001b[1;32m   1033\u001b[0m \u001b[0;34m\u001b[0m\u001b[0m\n\u001b[1;32m   1034\u001b[0m     \u001b[0;31m# handle scheduler specific logic\u001b[0m\u001b[0;34m\u001b[0m\u001b[0;34m\u001b[0m\u001b[0m\n\u001b[0;32m-> 1035\u001b[0;31m     \u001b[0mscheduler\u001b[0m \u001b[0;34m=\u001b[0m \u001b[0m_get_scheduler\u001b[0m\u001b[0;34m(\u001b[0m\u001b[0;34m)\u001b[0m\u001b[0;34m\u001b[0m\u001b[0m\n\u001b[0m\u001b[1;32m   1036\u001b[0m     \u001b[0mhave_chunks\u001b[0m \u001b[0;34m=\u001b[0m \u001b[0many\u001b[0m\u001b[0;34m(\u001b[0m\u001b[0mv\u001b[0m\u001b[0;34m.\u001b[0m\u001b[0mchunks\u001b[0m \u001b[0;32mfor\u001b[0m \u001b[0mv\u001b[0m \u001b[0;32min\u001b[0m \u001b[0mdataset\u001b[0m\u001b[0;34m.\u001b[0m\u001b[0mvariables\u001b[0m\u001b[0;34m.\u001b[0m\u001b[0mvalues\u001b[0m\u001b[0;34m(\u001b[0m\u001b[0;34m)\u001b[0m\u001b[0;34m)\u001b[0m\u001b[0;34m\u001b[0m\u001b[0m\n\u001b[1;32m   1037\u001b[0m \u001b[0;34m\u001b[0m\u001b[0m\n",
      "\u001b[0;32m/Library/Frameworks/Python.framework/Versions/3.7/lib/python3.7/site-packages/xarray/backends/locks.py\u001b[0m in \u001b[0;36m_get_scheduler\u001b[0;34m(get, collection)\u001b[0m\n\u001b[1;32m     77\u001b[0m         \u001b[0;32mreturn\u001b[0m \u001b[0;32mNone\u001b[0m\u001b[0;34m\u001b[0m\u001b[0m\n\u001b[1;32m     78\u001b[0m \u001b[0;34m\u001b[0m\u001b[0m\n\u001b[0;32m---> 79\u001b[0;31m     \u001b[0mactual_get\u001b[0m \u001b[0;34m=\u001b[0m \u001b[0mdask\u001b[0m\u001b[0;34m.\u001b[0m\u001b[0mbase\u001b[0m\u001b[0;34m.\u001b[0m\u001b[0mget_scheduler\u001b[0m\u001b[0;34m(\u001b[0m\u001b[0mget\u001b[0m\u001b[0;34m,\u001b[0m \u001b[0mcollection\u001b[0m\u001b[0;34m)\u001b[0m\u001b[0;34m\u001b[0m\u001b[0m\n\u001b[0m\u001b[1;32m     80\u001b[0m \u001b[0;34m\u001b[0m\u001b[0m\n\u001b[1;32m     81\u001b[0m     \u001b[0;32mtry\u001b[0m\u001b[0;34m:\u001b[0m\u001b[0;34m\u001b[0m\u001b[0m\n",
      "\u001b[0;31mAttributeError\u001b[0m: module 'dask' has no attribute 'base'"
     ]
    }
   ],
   "source": [
    "noaa.to_netcdf(path='data/')"
   ]
  },
  {
   "cell_type": "code",
   "execution_count": 22,
   "metadata": {},
   "outputs": [
    {
     "data": {
      "text/plain": [
       "'/Users/Mitevski1/sync/github/ch4_box_model'"
      ]
     },
     "execution_count": 22,
     "metadata": {},
     "output_type": "execute_result"
    }
   ],
   "source": [
    "xr.open_dataset('/data/')"
   ]
  },
  {
   "cell_type": "code",
   "execution_count": 23,
   "metadata": {},
   "outputs": [
    {
     "name": "stdout",
     "output_type": "stream",
     "text": [
      "[Errno 2] No such file or directory: 'data'\n",
      "/Users/Mitevski1/sync/github/ch4_box_model\n"
     ]
    }
   ],
   "source": [
    "cd data"
   ]
  },
  {
   "cell_type": "code",
   "execution_count": 24,
   "metadata": {},
   "outputs": [
    {
     "name": "stdout",
     "output_type": "stream",
     "text": [
      "CH4_emissions_seasonal.pdf\r\n",
      "CH4_seasonal.pdf\r\n",
      "OH_concentration.pdf\r\n",
      "OH_concentration_zonal_mean.nc\r\n",
      "README.md\r\n",
      "ch4_antropogenic_emissions_zonal_model_mean.nc\r\n",
      "ch4_mm_gl.txt\r\n",
      "data_means.py\r\n",
      "\u001b[1m\u001b[36mfigures\u001b[m\u001b[m/\r\n",
      "methane_twobox_lab2pII_tvaryOH.ipynb\r\n",
      "noaa.ipynb\r\n",
      "notfoundorders.html\r\n",
      "plot.py\r\n",
      "units_conversion.py\r\n",
      "wetland_emissions_zonal_model_mean.nc\r\n"
     ]
    }
   ],
   "source": [
    "ls"
   ]
  },
  {
   "cell_type": "code",
   "execution_count": 26,
   "metadata": {},
   "outputs": [
    {
     "data": {
      "text/html": [
       "<pre>&lt;xarray.Dataset&gt;\n",
       "Dimensions:    (lat: 360, time: 540)\n",
       "Coordinates:\n",
       "  * time       (time) datetime64[ns] 1970-01-31 1970-02-28 ... 2014-12-31\n",
       "  * lat        (lat) float64 -89.75 -89.25 -88.75 -88.25 ... 88.75 89.25 89.75\n",
       "Data variables:\n",
       "    ch4_antro  (time, lat) float64 ...</pre>"
      ],
      "text/plain": [
       "<xarray.Dataset>\n",
       "Dimensions:    (lat: 360, time: 540)\n",
       "Coordinates:\n",
       "  * time       (time) datetime64[ns] 1970-01-31 1970-02-28 ... 2014-12-31\n",
       "  * lat        (lat) float64 -89.75 -89.25 -88.75 -88.25 ... 88.75 89.25 89.75\n",
       "Data variables:\n",
       "    ch4_antro  (time, lat) float64 ..."
      ]
     },
     "execution_count": 26,
     "metadata": {},
     "output_type": "execute_result"
    }
   ],
   "source": [
    "xr.open_dataset('ch4_antropogenic_emissions_zonal_model_mean.nc')"
   ]
  },
  {
   "cell_type": "code",
   "execution_count": null,
   "metadata": {},
   "outputs": [],
   "source": []
  }
 ],
 "metadata": {
  "kernelspec": {
   "display_name": "Python 3",
   "language": "python",
   "name": "python3"
  },
  "language_info": {
   "codemirror_mode": {
    "name": "ipython",
    "version": 3
   },
   "file_extension": ".py",
   "mimetype": "text/x-python",
   "name": "python",
   "nbconvert_exporter": "python",
   "pygments_lexer": "ipython3",
   "version": "3.7.0"
  }
 },
 "nbformat": 4,
 "nbformat_minor": 4
}
